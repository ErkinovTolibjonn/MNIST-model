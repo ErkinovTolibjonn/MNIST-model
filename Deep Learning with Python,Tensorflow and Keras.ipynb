{
  "nbformat": 4,
  "nbformat_minor": 0,
  "metadata": {
    "colab": {
      "private_outputs": true,
      "provenance": []
    },
    "kernelspec": {
      "name": "python3",
      "display_name": "Python 3"
    },
    "language_info": {
      "name": "python"
    }
  },
  "cells": [
    {
      "cell_type": "markdown",
      "source": [
        "Import library and load dataset"
      ],
      "metadata": {
        "id": "SxjU1cYiFrEk"
      }
    },
    {
      "cell_type": "code",
      "execution_count": null,
      "metadata": {
        "id": "IAqHcjZS5ye_"
      },
      "outputs": [],
      "source": [
        "import tensorflow as tf\n",
        "mnist = tf.keras.datasets.mnist      #28x28 image of hand-written digit 0-9\n",
        "(x_train,y_train),(x_test,y_test) = mnist.load_data()"
      ]
    },
    {
      "cell_type": "markdown",
      "source": [
        "Normalizing data"
      ],
      "metadata": {
        "id": "0-G8hFggF1k4"
      }
    },
    {
      "cell_type": "code",
      "source": [
        "x_train = tf.keras.utils.normalize(x_train,axis = 1)\n",
        "x_test = tf.keras.utils.normalize(x_test,axis = 1)"
      ],
      "metadata": {
        "id": "_EVSWNmIAiOz"
      },
      "execution_count": null,
      "outputs": []
    },
    {
      "cell_type": "code",
      "source": [
        "plt.figure(figsize = (20,12))\n",
        "for i in range(12):\n",
        "  plt.subplot(3,4,i+1)\n",
        "  plt.imshow(x_train[i])\n",
        "plt.show()"
      ],
      "metadata": {
        "id": "kAuOvTzfUpW1"
      },
      "execution_count": null,
      "outputs": []
    },
    {
      "cell_type": "markdown",
      "source": [
        "Create model"
      ],
      "metadata": {
        "id": "B6LxEU0_GFfW"
      }
    },
    {
      "cell_type": "code",
      "source": [
        "model = tf.keras.models.Sequential()"
      ],
      "metadata": {
        "id": "wOgPPrXFGA7i"
      },
      "execution_count": null,
      "outputs": []
    },
    {
      "cell_type": "markdown",
      "source": [
        "Tensorflow Network"
      ],
      "metadata": {
        "id": "CLDkv0btGJmm"
      }
    },
    {
      "cell_type": "code",
      "source": [
        "model.add(tf.keras.layers.Flatten())\n",
        "model.add(tf.keras.layers.Dense(64, activation = tf.nn.relu))\n",
        "model.add(tf.keras.layers.Dense(64, activation = tf.nn.relu))\n",
        "model.add(tf.keras.layers.Dense(64, activation = tf.nn.softmax))"
      ],
      "metadata": {
        "id": "7oMXyo2gBGxQ"
      },
      "execution_count": null,
      "outputs": []
    },
    {
      "cell_type": "markdown",
      "source": [
        "Train model"
      ],
      "metadata": {
        "id": "E8DiPXAPGPW0"
      }
    },
    {
      "cell_type": "code",
      "source": [
        "model.compile(optimizer='adam',\n",
        "              loss = 'sparse_categorical_crossentropy',\n",
        "              metrics = ['accuracy'])\n",
        "\n",
        "model.fit(x_train,y_train,epochs=5)"
      ],
      "metadata": {
        "id": "viu9RGTyF_28"
      },
      "execution_count": null,
      "outputs": []
    },
    {
      "cell_type": "markdown",
      "source": [
        "Validation Loss and Validation accuracy"
      ],
      "metadata": {
        "id": "_YcT-2o2GTnJ"
      }
    },
    {
      "cell_type": "code",
      "source": [
        "val_loss,val_acc = model.evaluate(x_test,y_test)\n",
        "print(f'val_loss: {val_loss},val_acc: {val_acc}')"
      ],
      "metadata": {
        "id": "-k5P_KAtDg30"
      },
      "execution_count": null,
      "outputs": []
    },
    {
      "cell_type": "markdown",
      "source": [
        "Show data label"
      ],
      "metadata": {
        "id": "gVvYXNvgGdIQ"
      }
    },
    {
      "cell_type": "code",
      "source": [
        "import matplotlib.pyplot as plt\n",
        "plt.imshow(x_train[5],cmap=plt.cm.binary)\n",
        "plt.show()\n",
        "# print(x_train[5])"
      ],
      "metadata": {
        "id": "4dER9Ok0_7V7"
      },
      "execution_count": null,
      "outputs": []
    },
    {
      "cell_type": "markdown",
      "source": [
        "Save model with new file name"
      ],
      "metadata": {
        "id": "shmj6Y-kGpsl"
      }
    },
    {
      "cell_type": "code",
      "source": [
        "model.save('epic_num_reader.model')"
      ],
      "metadata": {
        "id": "0qVGyWdGAKAr"
      },
      "execution_count": null,
      "outputs": []
    },
    {
      "cell_type": "markdown",
      "source": [
        "Load new model"
      ],
      "metadata": {
        "id": "u7cRw5vTGw9e"
      }
    },
    {
      "cell_type": "code",
      "source": [
        "new_model = tf.keras.models.load_model('epic_num_reader.model')"
      ],
      "metadata": {
        "id": "S6I-8wh4EeMu"
      },
      "execution_count": null,
      "outputs": []
    },
    {
      "cell_type": "markdown",
      "source": [
        "Prediction new model"
      ],
      "metadata": {
        "id": "JYWHwi3FG0ii"
      }
    },
    {
      "cell_type": "code",
      "source": [
        "predictions = new_model.predict([x_test])"
      ],
      "metadata": {
        "id": "3TVLMT-HEtFu"
      },
      "execution_count": null,
      "outputs": []
    },
    {
      "cell_type": "code",
      "source": [
        "print(predictions)"
      ],
      "metadata": {
        "id": "eQfAkzYCE4mI"
      },
      "execution_count": null,
      "outputs": []
    },
    {
      "cell_type": "markdown",
      "source": [
        "show prediction max label index"
      ],
      "metadata": {
        "id": "2tiE9yWIHBUv"
      }
    },
    {
      "cell_type": "code",
      "source": [
        "predictions.shape"
      ],
      "metadata": {
        "id": "KRBuw6lFVUBn"
      },
      "execution_count": null,
      "outputs": []
    },
    {
      "cell_type": "code",
      "source": [
        "import numpy as np\n",
        "print(np.argmax(predictions[1]))"
      ],
      "metadata": {
        "id": "2r-hmcU2E71s"
      },
      "execution_count": null,
      "outputs": []
    },
    {
      "cell_type": "markdown",
      "source": [
        "Show max label index"
      ],
      "metadata": {
        "id": "Z3J-KdISHKC_"
      }
    },
    {
      "cell_type": "code",
      "source": [
        "plt.imshow(x_test[1])\n",
        "plt.show()"
      ],
      "metadata": {
        "id": "imZuP2P3FLrn"
      },
      "execution_count": null,
      "outputs": []
    }
  ]
}